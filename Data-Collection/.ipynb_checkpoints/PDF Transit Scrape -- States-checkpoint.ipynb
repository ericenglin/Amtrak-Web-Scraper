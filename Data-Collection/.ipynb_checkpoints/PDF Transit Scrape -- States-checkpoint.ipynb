{
 "cells": [
  {
   "cell_type": "code",
   "execution_count": 1,
   "metadata": {},
   "outputs": [],
   "source": [
    "# import libraries\n",
    "import pandas as pd\n",
    "import html\n",
    "from bs4 import BeautifulSoup\n",
    "import requests\n",
    "from urllib.request import Request, urlopen \n",
    "import urllib.request  \n",
    "from tabula import read_pdf"
   ]
  },
  {
   "cell_type": "code",
   "execution_count": 2,
   "metadata": {},
   "outputs": [
    {
     "data": {
      "text/plain": [
       "200"
      ]
     },
     "execution_count": 2,
     "metadata": {},
     "output_type": "execute_result"
    }
   ],
   "source": [
    "my_page = requests.get(\n",
    "    \"https://www.railpassengers.org/all-aboard/tools-info/ridership-statistics/\")\n",
    "my_page.status_code"
   ]
  },
  {
   "cell_type": "code",
   "execution_count": 3,
   "metadata": {},
   "outputs": [],
   "source": [
    "transit_soup = BeautifulSoup(my_page.content, 'html.parser')"
   ]
  },
  {
   "cell_type": "code",
   "execution_count": 31,
   "metadata": {},
   "outputs": [],
   "source": [
    "state_list = []\n",
    "for l in transit_soup.findAll('option'):\n",
    "    station = l.text.strip()\n",
    "    state_list.append(station)\n",
    "    if station == \"Wyoming\":\n",
    "        break\n",
    "\n",
    "\n",
    "url_val = []\n",
    "for l in transit_soup.findAll('option'):\n",
    "    url_val.append(l['value'])\n",
    "    station = l.text.strip()\n",
    "    if station == \"Wyoming\":\n",
    "        break\n",
    "\n"
   ]
  },
  {
   "cell_type": "code",
   "execution_count": 35,
   "metadata": {},
   "outputs": [],
   "source": [
    "df = pd.DataFrame({\"State\":state_list,\n",
    "                  \"url\":url_val})\n",
    "\n",
    "df['url']=\"https://www.railpassengers.org/\"+df['url']\n",
    "\n",
    "df = df[1:]"
   ]
  },
  {
   "cell_type": "code",
   "execution_count": 36,
   "metadata": {},
   "outputs": [
    {
     "data": {
      "text/html": [
       "<div>\n",
       "<style scoped>\n",
       "    .dataframe tbody tr th:only-of-type {\n",
       "        vertical-align: middle;\n",
       "    }\n",
       "\n",
       "    .dataframe tbody tr th {\n",
       "        vertical-align: top;\n",
       "    }\n",
       "\n",
       "    .dataframe thead th {\n",
       "        text-align: right;\n",
       "    }\n",
       "</style>\n",
       "<table border=\"1\" class=\"dataframe\">\n",
       "  <thead>\n",
       "    <tr style=\"text-align: right;\">\n",
       "      <th></th>\n",
       "      <th>State</th>\n",
       "      <th>url</th>\n",
       "    </tr>\n",
       "  </thead>\n",
       "  <tbody>\n",
       "    <tr>\n",
       "      <th>1</th>\n",
       "      <td>Alabama</td>\n",
       "      <td>https://www.railpassengers.org//site/assets/fi...</td>\n",
       "    </tr>\n",
       "    <tr>\n",
       "      <th>2</th>\n",
       "      <td>Arizona</td>\n",
       "      <td>https://www.railpassengers.org//site/assets/fi...</td>\n",
       "    </tr>\n",
       "    <tr>\n",
       "      <th>3</th>\n",
       "      <td>Arkansas</td>\n",
       "      <td>https://www.railpassengers.org//site/assets/fi...</td>\n",
       "    </tr>\n",
       "    <tr>\n",
       "      <th>4</th>\n",
       "      <td>California</td>\n",
       "      <td>https://www.railpassengers.org//site/assets/fi...</td>\n",
       "    </tr>\n",
       "    <tr>\n",
       "      <th>5</th>\n",
       "      <td>Colorado</td>\n",
       "      <td>https://www.railpassengers.org//site/assets/fi...</td>\n",
       "    </tr>\n",
       "  </tbody>\n",
       "</table>\n",
       "</div>"
      ],
      "text/plain": [
       "        State                                                url\n",
       "1     Alabama  https://www.railpassengers.org//site/assets/fi...\n",
       "2     Arizona  https://www.railpassengers.org//site/assets/fi...\n",
       "3    Arkansas  https://www.railpassengers.org//site/assets/fi...\n",
       "4  California  https://www.railpassengers.org//site/assets/fi...\n",
       "5    Colorado  https://www.railpassengers.org//site/assets/fi..."
      ]
     },
     "execution_count": 36,
     "metadata": {},
     "output_type": "execute_result"
    }
   ],
   "source": [
    "df.head()"
   ]
  },
  {
   "cell_type": "code",
   "execution_count": 52,
   "metadata": {},
   "outputs": [
    {
     "data": {
      "text/plain": [
       "48"
      ]
     },
     "execution_count": 52,
     "metadata": {},
     "output_type": "execute_result"
    }
   ],
   "source": [
    "len(df)"
   ]
  },
  {
   "cell_type": "code",
   "execution_count": 42,
   "metadata": {},
   "outputs": [
    {
     "name": "stdout",
     "output_type": "stream",
     "text": [
      "https://www.railpassengers.org//site/assets/files/1174/al.pdf Alabama\n",
      "https://www.railpassengers.org//site/assets/files/1176/az.pdf Arizona\n",
      "https://www.railpassengers.org//site/assets/files/1177/ar.pdf Arkansas\n",
      "https://www.railpassengers.org//site/assets/files/1178/ca.pdf California\n",
      "https://www.railpassengers.org//site/assets/files/1179/co.pdf Colorado\n",
      "https://www.railpassengers.org//site/assets/files/1180/ct.pdf Connecticut\n",
      "https://www.railpassengers.org//site/assets/files/1181/de.pdf Delaware\n",
      "https://www.railpassengers.org//site/assets/files/1182/fl.pdf Florida\n",
      "https://www.railpassengers.org//site/assets/files/1183/ga.pdf Georgia\n",
      "https://www.railpassengers.org//site/assets/files/1185/id.pdf Idaho\n",
      "https://www.railpassengers.org//site/assets/files/1186/il.pdf Illinois\n",
      "https://www.railpassengers.org//site/assets/files/1187/in.pdf Indiana\n",
      "https://www.railpassengers.org//site/assets/files/1188/ia.pdf Iowa\n",
      "https://www.railpassengers.org//site/assets/files/1189/ks.pdf Kansas\n",
      "https://www.railpassengers.org//site/assets/files/1190/ky.pdf Kentucky\n",
      "https://www.railpassengers.org//site/assets/files/1191/la.pdf Louisiana\n",
      "https://www.railpassengers.org//site/assets/files/1192/me.pdf Maine\n",
      "https://www.railpassengers.org//site/assets/files/1193/md.pdf Maryland\n",
      "https://www.railpassengers.org//site/assets/files/1194/ma.pdf Massachusetts\n",
      "https://www.railpassengers.org//site/assets/files/1195/mi.pdf Michigan\n",
      "https://www.railpassengers.org//site/assets/files/1196/mn.pdf Minnesota\n",
      "https://www.railpassengers.org//site/assets/files/1197/ms.pdf Mississippi\n",
      "https://www.railpassengers.org//site/assets/files/1198/mo.pdf Missouri\n",
      "https://www.railpassengers.org//site/assets/files/1199/mt.pdf Montana\n",
      "https://www.railpassengers.org//site/assets/files/1200/ne.pdf Nebraska\n",
      "https://www.railpassengers.org//site/assets/files/1201/nv.pdf Nevada\n",
      "https://www.railpassengers.org//site/assets/files/1202/nh.pdf New Hampshire\n",
      "https://www.railpassengers.org//site/assets/files/1203/nj.pdf New Jersey\n",
      "https://www.railpassengers.org//site/assets/files/1204/nm.pdf New Mexico\n",
      "https://www.railpassengers.org//site/assets/files/1205/ny.pdf New York\n",
      "https://www.railpassengers.org//site/assets/files/1206/nc.pdf North Carolina\n",
      "https://www.railpassengers.org//site/assets/files/1207/nd.pdf North Dakota\n",
      "https://www.railpassengers.org//site/assets/files/1208/oh.pdf Ohio\n",
      "https://www.railpassengers.org//site/assets/files/1209/ok.pdf Oklahoma\n",
      "https://www.railpassengers.org//site/assets/files/1210/or.pdf Oregon\n",
      "https://www.railpassengers.org//site/assets/files/1211/pa.pdf Pennsylvania\n",
      "https://www.railpassengers.org//site/assets/files/1212/ri.pdf Rhode Island\n",
      "https://www.railpassengers.org//site/assets/files/1213/sc.pdf South Carolina\n",
      "https://www.railpassengers.org//site/assets/files/1214/sd.pdf South Dakota\n",
      "https://www.railpassengers.org//site/assets/files/1215/tn.pdf Tennessee\n",
      "https://www.railpassengers.org//site/assets/files/1216/tx.pdf Texas\n",
      "https://www.railpassengers.org//site/assets/files/1217/ut.pdf Utah\n",
      "https://www.railpassengers.org//site/assets/files/1218/vt.pdf Vermont\n",
      "https://www.railpassengers.org//site/assets/files/1219/va.pdf Virginia\n",
      "https://www.railpassengers.org//site/assets/files/1220/wa.pdf Washington\n",
      "https://www.railpassengers.org//site/assets/files/1221/wv.pdf West Virginia\n",
      "https://www.railpassengers.org//site/assets/files/1222/wi.pdf Wisconsin\n",
      "https://www.railpassengers.org//site/assets/files/1223/wy.pdf Wyoming\n"
     ]
    }
   ],
   "source": [
    "for i in range(0, len(df)):\n",
    "    print(df.iloc[i]['url'], df.iloc[i]['State'])\n"
   ]
  },
  {
   "cell_type": "code",
   "execution_count": 47,
   "metadata": {},
   "outputs": [],
   "source": [
    "#Download all pdfs\n",
    "\n",
    "#url=\"https://www.railpassengers.org/site/assets/files/1679/abe.pdf\"  \n",
    "#req = urllib.request.Request(url, headers={'User-Agent': 'Mozilla/5.0'})  \n",
    "\n",
    "for i in range(0, len(df)):\n",
    "#    print(states.iloc[i]['url'], states.iloc[i]['report type'])\n",
    "    url=df.iloc[i]['url']\n",
    "    r = requests.get(url)\n",
    "    file_name=\"./pdfs/\"\n",
    "    file_name=file_name+(df.iloc[i]['State'])+\".pdf\"\n",
    "    with open(file_name, \"wb\") as code:\n",
    "        code.write(r.content)"
   ]
  },
  {
   "cell_type": "code",
   "execution_count": 57,
   "metadata": {
    "scrolled": true
   },
   "outputs": [
    {
     "name": "stdout",
     "output_type": "stream",
     "text": [
      "South Dakota : No Data\n",
      "Wyoming : No Data\n"
     ]
    }
   ],
   "source": [
    "## Read pdfs\n",
    "\n",
    "state_table=pd.DataFrame()\n",
    "years = ['2012','2013','2014','2015','2016','2017','2018']\n",
    "\n",
    "\n",
    "\n",
    "for i in range(0, len(df)):\n",
    "    state=df.iloc[i]['State']\n",
    "    #need to define file directory\n",
    "    file_name=\"./state pdfs/\"+(df.iloc[i]['State'])+\".pdf\"\n",
    "    #read pdf as new variable using tabula \n",
    "    df_2=read_pdf(file_name, \n",
    "                    spreadsheet=True, \n",
    "                    area=(101.118,29.647,291.706,342.0))\n",
    "    vals=[]\n",
    "    #header becomes the 2012 value when reading in table\n",
    "    try:\n",
    "        x_list=df_2.columns.values.tolist()\n",
    "        for j in x_list:\n",
    "            x=j.replace(\",\",\"\")\n",
    "\n",
    "        x=float(x)\n",
    "        vals.append(x)\n",
    "\n",
    "        value_list = df_2.values.tolist()\n",
    "        for y in value_list:\n",
    "            z=y[0]\n",
    "            z=str(z)\n",
    "            z=z.replace(\",\",\"\")\n",
    "            z=float(z)\n",
    "            vals.append(z)\n",
    "\n",
    "        new_state=pd.DataFrame()\n",
    "        new_state['Year'] = years\n",
    "        new_state['Ridership']=vals\n",
    "        new_state[\"state\"]=state\n",
    "        state_table = pd.concat([state_table, new_state])\n",
    "\n",
    "    except AttributeError:\n",
    "        print(state, \": No Data\")\n"
   ]
  },
  {
   "cell_type": "code",
   "execution_count": 58,
   "metadata": {},
   "outputs": [
    {
     "data": {
      "text/html": [
       "<div>\n",
       "<style scoped>\n",
       "    .dataframe tbody tr th:only-of-type {\n",
       "        vertical-align: middle;\n",
       "    }\n",
       "\n",
       "    .dataframe tbody tr th {\n",
       "        vertical-align: top;\n",
       "    }\n",
       "\n",
       "    .dataframe thead th {\n",
       "        text-align: right;\n",
       "    }\n",
       "</style>\n",
       "<table border=\"1\" class=\"dataframe\">\n",
       "  <thead>\n",
       "    <tr style=\"text-align: right;\">\n",
       "      <th></th>\n",
       "      <th>Year</th>\n",
       "      <th>Ridership</th>\n",
       "      <th>state</th>\n",
       "    </tr>\n",
       "  </thead>\n",
       "  <tbody>\n",
       "    <tr>\n",
       "      <th>0</th>\n",
       "      <td>2012</td>\n",
       "      <td>66403.0</td>\n",
       "      <td>Alabama</td>\n",
       "    </tr>\n",
       "    <tr>\n",
       "      <th>1</th>\n",
       "      <td>2013</td>\n",
       "      <td>65213.0</td>\n",
       "      <td>Alabama</td>\n",
       "    </tr>\n",
       "    <tr>\n",
       "      <th>2</th>\n",
       "      <td>2014</td>\n",
       "      <td>62426.0</td>\n",
       "      <td>Alabama</td>\n",
       "    </tr>\n",
       "    <tr>\n",
       "      <th>3</th>\n",
       "      <td>2015</td>\n",
       "      <td>60167.0</td>\n",
       "      <td>Alabama</td>\n",
       "    </tr>\n",
       "    <tr>\n",
       "      <th>4</th>\n",
       "      <td>2016</td>\n",
       "      <td>57398.0</td>\n",
       "      <td>Alabama</td>\n",
       "    </tr>\n",
       "  </tbody>\n",
       "</table>\n",
       "</div>"
      ],
      "text/plain": [
       "   Year  Ridership    state\n",
       "0  2012    66403.0  Alabama\n",
       "1  2013    65213.0  Alabama\n",
       "2  2014    62426.0  Alabama\n",
       "3  2015    60167.0  Alabama\n",
       "4  2016    57398.0  Alabama"
      ]
     },
     "execution_count": 58,
     "metadata": {},
     "output_type": "execute_result"
    }
   ],
   "source": [
    "state_table.head()"
   ]
  },
  {
   "cell_type": "code",
   "execution_count": 59,
   "metadata": {},
   "outputs": [],
   "source": [
    "state_table.to_csv(\"State Table.csv\")"
   ]
  }
 ],
 "metadata": {
  "kernelspec": {
   "display_name": "Python 3",
   "language": "python",
   "name": "python3"
  },
  "language_info": {
   "codemirror_mode": {
    "name": "ipython",
    "version": 3
   },
   "file_extension": ".py",
   "mimetype": "text/x-python",
   "name": "python",
   "nbconvert_exporter": "python",
   "pygments_lexer": "ipython3",
   "version": "3.8.3"
  }
 },
 "nbformat": 4,
 "nbformat_minor": 2
}
